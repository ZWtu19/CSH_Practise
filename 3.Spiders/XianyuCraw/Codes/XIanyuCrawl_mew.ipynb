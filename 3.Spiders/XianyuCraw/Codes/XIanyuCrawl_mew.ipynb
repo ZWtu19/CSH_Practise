{
 "cells": [
  {
   "cell_type": "code",
   "execution_count": 1,
   "metadata": {},
   "outputs": [],
   "source": [
    "import random\n",
    "import numpy as np\n",
    "import pandas as pd\n",
    "import csv\n",
    "# from pyecharts.charts import Bar\n",
    "# from pyecharts import options as opts\n",
    "# from pyecharts.charts import Map  # 注意这里与老版本pyecharts调用的区别\n",
    "# from pyecharts.globals import WarningType\n"
   ]
  },
  {
   "cell_type": "code",
   "execution_count": 2,
   "metadata": {},
   "outputs": [],
   "source": [
    "# 定义所用的特征信息内容\n",
    "def DefinationFeatures():\n",
    "    # 通过Features字典存储特征信息\n",
    "    Features = {}\n",
    "    # 列表用于存放商品的其他特征信息\n",
    "    Features['season'] = ['春','夏','秋','冬']\n",
    "    Features['size_1'] = ['XXXXXL','5XL','5X','XXXXL','4XL','4X','XXXL','3XL','XXL','2XL','XL','L','M','S']\n",
    "    Features['size_2'] = ['160','165','170','175','180']\n",
    "    Features['stands'] = ['adidas','阿迪达斯','阿迪','耐克','NIKE','安踏','ANTA','李宁','LINING','匹克','PEAK','特步','XTEP','鸿星尔克','ERKE','乔丹','JORDAN',\n",
    "                          '贵人鸟','南极人','优衣库','ZARA','优衣库','UNIQLO','HM','老虎头','富贵鸟','潮牌','FOLLIE','FILA','OSHKOSH'\n",
    "                          'ONLY','迪士尼','巴黎世家','DAZZLE','拉夏贝尔','Pull&Bear','JUSLIN','盛夏午夜','SZ','DAHONG','FIONA','STYLEONME',\n",
    "                          '巴拉巴拉','ABC','派克兰蒂','叮当猫','小数点','小猪班纳','贝蕾尔','娃哈哈','JOJO']\n",
    "    # 添加年龄段信息\n",
    "    Features['age'] = ['老年','中年','中老年','青年','青少年','男','女']\n",
    "    # 添加颜色信息\n",
    "    Features['color'] = ['黑','白','灰','红','橙','黄','绿','青','蓝','紫','纯色']\n",
    "    Features['styles'] = ['学生','港风','英伦','潮牌','宽松','修身','POLO','舒适','透气','日系','情侣','圆领','v领','V领','百搭','复古','印花','校园','韩版','卡通','中式','性感',\n",
    "                         '喇叭','大码','专柜']\n",
    "    Features['type'] = ['短袖','长袖','半袖','五分袖','中袖','上衣','裤','裙','卫衣','衬衫','打底衫','外套','夹克','防晒衣','直筒','连衣裙','九分裤','七分裤','一字肩']\n",
    "    Features['material'] = ['纯棉','涤纶','聚酯纤维','棉麻','牛仔']\n",
    "\n",
    "    # 返回Features\n",
    "    return Features"
   ]
  },
  {
   "cell_type": "code",
   "execution_count": 18,
   "metadata": {},
   "outputs": [],
   "source": [
    "# 定义对数据的处理函数\n",
    "def Assignment(row):\n",
    "    # 输出原文本内容\n",
    "    description = row['description']\n",
    "    description = description.upper()\n",
    "    # print('原文本内容：%s' %description)\n",
    "    # 调用函数深度解析数据Analyze\n",
    "    results = parse(description)\n",
    "    # 暂存数据\n",
    "    features = {}\n",
    "    features['item_id'] = row['item_id']\n",
    "    features['season'] = results['season']\n",
    "    features['size_1'] = results['size_1']\n",
    "    features['size_2'] = results['size_2']\n",
    "    features['stands'] = results['stands']\n",
    "    features['styles'] = results['styles']\n",
    "    features['type'] = results['type']\n",
    "    features['material'] = results['material']\n",
    "    features['color'] = results['color']\n",
    "    features['age'] = results['age']\n",
    "    # print(features)\n",
    "    # 返回数据\n",
    "    return features\n"
   ]
  },
  {
   "cell_type": "code",
   "execution_count": 4,
   "metadata": {},
   "outputs": [],
   "source": [
    "# 定义数据读取函数\n",
    "def readInformation(type):\n",
    "    all_data = []\n",
    "    # types = ['men','women','kids','sports']\n",
    "    # types = ['men']\n",
    "\n",
    "    data_old = pd.read_csv('/home/authorcai/PycharmProjects/XianyuCraw/Csvs/origin_dataes/item_'+type+'.csv')\n",
    "    data = pd.DataFrame()\n",
    "    data['item_id'] = data_old['卖家Id']\n",
    "    data['description'] = data_old['商品描述']\n",
    "    all_data.append(data)\n",
    "    return all_data\n"
   ]
  },
  {
   "cell_type": "code",
   "execution_count": 11,
   "metadata": {},
   "outputs": [],
   "source": [
    "# 定义数据存储函数\n",
    "def storeData(filePath,features):\n",
    "    # 数据写入\n",
    "    l = []\n",
    "    with  open(filePath, 'a') as csvFile:\n",
    "        writer = csv.writer(csvFile)\n",
    "        # writer.writerow(field)\n",
    "        # 将数据写入\n",
    "        # 添加数据\n",
    "        l.append(int(features['item_id']))\n",
    "        l.append(','.join(features['season']))\n",
    "        l.append(','.join(features['size_1']))\n",
    "        l.append(','.join(features['size_2']))\n",
    "        l.append(','.join(features['age']))\n",
    "        l.append(','.join(features['color']))\n",
    "        l.append(','.join(features['stands']))\n",
    "        l.append(','.join(features['styles']))\n",
    "        l.append(','.join(features['type']))\n",
    "        l.append(','.join(features['material']))\n",
    "        # 数据写入csv文件\n",
    "        writer.writerow(l)"
   ]
  },
  {
   "cell_type": "code",
   "execution_count": 6,
   "metadata": {},
   "outputs": [],
   "source": [
    "def parse(description):\n",
    "    # 将文本内容description的内容解析后存储在content中\n",
    "    results = {\n",
    "        'item_id':[],\n",
    "        'season':[],\n",
    "        'size_1':[],\n",
    "        'size_2':[],\n",
    "        'styles':[],\n",
    "        'stands':[],\n",
    "        'type':[],\n",
    "        'material':[],\n",
    "        'age':[],\n",
    "        'color':[]\n",
    "    }\n",
    "    Features = {}\n",
    "    Features = DefinationFeatures()\n",
    "    for feature in Features:\n",
    "        for f in Features[feature]:\n",
    "            length = len(f)\n",
    "            # 定位关键字的位置\n",
    "            pos = description.find(f)\n",
    "            # 判定该关键字是否存在\n",
    "            result = description[pos:pos+length]\n",
    "            if(pos!=-1):\n",
    "                #print(f)\n",
    "                results[feature].append(f)\n",
    "            else:\n",
    "                pass\n",
    "                #print(\"nothing\")\n",
    "    # print(results)\n",
    "    return results\n"
   ]
  },
  {
   "cell_type": "code",
   "execution_count": 19,
   "metadata": {},
   "outputs": [],
   "source": [
    "# 定义主函数\n",
    "if __name__ == '__main__':\n",
    "    types = ['men', 'women', 'kids', 'sports','sold']\n",
    "#     types = ['men']\n",
    "    for type in types:\n",
    "        contents = DefinationFeatures()\n",
    "        dataes = readInformation(type)\n",
    "        for data in dataes:\n",
    "            for index, row in data.iterrows():\n",
    "                features = Assignment(row)\n",
    "                storeData('/home/authorcai/PycharmProjects/XianyuCraw/Csvs/result_dataes/result_' + type + '.csv', features)"
   ]
  },
  {
   "cell_type": "code",
   "execution_count": null,
   "metadata": {},
   "outputs": [],
   "source": []
  }
 ],
 "metadata": {
  "kernelspec": {
   "display_name": "Usual",
   "language": "python",
   "name": "usual"
  },
  "language_info": {
   "codemirror_mode": {
    "name": "ipython",
    "version": 3
   },
   "file_extension": ".py",
   "mimetype": "text/x-python",
   "name": "python",
   "nbconvert_exporter": "python",
   "pygments_lexer": "ipython3",
   "version": "3.8.3"
  }
 },
 "nbformat": 4,
 "nbformat_minor": 4
}
