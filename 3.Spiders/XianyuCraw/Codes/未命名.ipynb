{
 "cells": [
  {
   "cell_type": "code",
   "execution_count": 1,
   "metadata": {},
   "outputs": [],
   "source": [
    "str = '''\n",
    "短袖男t恤韩版潮流修身圆领学生情侣男士宽松人气爆款 \n",
    "\n",
    "❤️宝贝颜色           黑色，白色（男女同款）\n",
    "\n",
    "❤️宝贝尺码         S（75-85斤），M（85-95斤），L（95-110斤），XL（110-125斤），2X（125-140斤），3X（140-155斤），4X（155-170斤），5X（170-190斤）\n",
    "\n",
    "本款宝贝为男女同款，可以做情侣装哦，宝贝全新包邮（新疆，西藏等偏远地区要补邮费哈），有需要的拍下联系客服尺寸和颜色即可，有任何问题欢迎随时点右下角我想要咨询客服，24小时恭候你的大驾，宝贝只支持邮寄。\n",
    "'''"
   ]
  },
  {
   "cell_type": "code",
   "execution_count": 2,
   "metadata": {},
   "outputs": [
    {
     "data": {
      "text/plain": [
       "'\\n短袖男t恤韩版潮流修身圆领学生情侣男士宽松人气爆款 \\n\\n❤️宝贝颜色           黑色，白色（男女同款）\\n\\n❤️宝贝尺码         s（75-85斤），m（85-95斤），l（95-110斤），xl（110-125斤），2x（125-140斤），3x（140-155斤），4x（155-170斤），5x（170-190斤）\\n\\n本款宝贝为男女同款，可以做情侣装哦，宝贝全新包邮（新疆，西藏等偏远地区要补邮费哈），有需要的拍下联系客服尺寸和颜色即可，有任何问题欢迎随时点右下角我想要咨询客服，24小时恭候你的大驾，宝贝只支持邮寄。\\n'"
      ]
     },
     "execution_count": 2,
     "metadata": {},
     "output_type": "execute_result"
    }
   ],
   "source": [
    "str.lower()"
   ]
  },
  {
   "cell_type": "code",
   "execution_count": 3,
   "metadata": {},
   "outputs": [
    {
     "data": {
      "text/plain": [
       "'\\n短袖男t恤韩版潮流修身圆领学生情侣男士宽松人气爆款 \\n\\n❤️宝贝颜色           黑色，白色（男女同款）\\n\\n❤️宝贝尺码         S（75-85斤），M（85-95斤），L（95-110斤），XL（110-125斤），2X（125-140斤），3X（140-155斤），4X（155-170斤），5X（170-190斤）\\n\\n本款宝贝为男女同款，可以做情侣装哦，宝贝全新包邮（新疆，西藏等偏远地区要补邮费哈），有需要的拍下联系客服尺寸和颜色即可，有任何问题欢迎随时点右下角我想要咨询客服，24小时恭候你的大驾，宝贝只支持邮寄。\\n'"
      ]
     },
     "execution_count": 3,
     "metadata": {},
     "output_type": "execute_result"
    }
   ],
   "source": [
    "str"
   ]
  },
  {
   "cell_type": "code",
   "execution_count": null,
   "metadata": {},
   "outputs": [],
   "source": []
  }
 ],
 "metadata": {
  "kernelspec": {
   "display_name": "Python 3",
   "language": "python",
   "name": "python3"
  },
  "language_info": {
   "codemirror_mode": {
    "name": "ipython",
    "version": 3
   },
   "file_extension": ".py",
   "mimetype": "text/x-python",
   "name": "python",
   "nbconvert_exporter": "python",
   "pygments_lexer": "ipython3",
   "version": "3.8.3"
  }
 },
 "nbformat": 4,
 "nbformat_minor": 4
}
