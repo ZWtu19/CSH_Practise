{
 "cells": [
  {
   "cell_type": "code",
   "execution_count": 1,
   "metadata": {},
   "outputs": [],
   "source": [
    "import random\n",
    "import numpy as np\n",
    "import pandas as pd\n",
    "import csv\n",
    "# from pyecharts.charts import Bar\n",
    "# from pyecharts import options as opts\n",
    "# from pyecharts.charts import Map  # 注意这里与老版本pyecharts调用的区别\n",
    "# from pyecharts.globals import WarningType"
   ]
  },
  {
   "cell_type": "code",
   "execution_count": 2,
   "metadata": {},
   "outputs": [],
   "source": [
    "# 定义所用的特征信息内容\n",
    "def DefinationFeatures():\n",
    "    # 通过Features字典存储特征信息\n",
    "    Features = {}\n",
    "    # 列表用于存放商品的其他特征信息\n",
    "    Features['season'] = ['春','夏','秋','冬','其他']\n",
    "    Features['size_1'] = ['s','m','l','xl','xxl','其他']\n",
    "    Features['size_2'] = ['160','165','170','175','180','其他']\n",
    "    Features['stands'] = ['adidas','阿迪达斯','耐克','贵人鸟','南极人','优衣库','zara','其他']\n",
    "    Features['styles'] = ['学生','港风','英伦','潮牌','宽松','修身','polo','其他']\n",
    "    Features['type'] = ['短袖','长袖','上衣','裤','裙','卫衣','其他']\n",
    "    Features['material'] = ['纯棉','涤纶','']\n",
    "        \n",
    "    # 返回Features\n",
    "    return Features"
   ]
  },
  {
   "cell_type": "code",
   "execution_count": 3,
   "metadata": {},
   "outputs": [],
   "source": [
    "# 定义对数据的处理函数\n",
    "def Assignment(row):\n",
    "    # 输出原文本内容\n",
    "    description = row['description']\n",
    "    # print('原文本内容：%s' %description)\n",
    "    # 调用函数深度解析数据Analyze\n",
    "    result = []\n",
    "    # 暂存数据\n",
    "    features['item_id'] = 'item_id'\n",
    "    features['season'] = 'season'\n",
    "    features['size_1'] = 'size_1'\n",
    "    features['size_2'] = 'size_2'\n",
    "    features['stands'] = 'stands'\n",
    "    features['styles'] = 'styles'\n",
    "    features['type'] = 'type'\n",
    "    features['material'] = 'material'\n",
    "    # print(features)\n",
    "    # 返回数据\n",
    "    return features"
   ]
  },
  {
   "cell_type": "code",
   "execution_count": 4,
   "metadata": {},
   "outputs": [],
   "source": [
    "# 定义数据读取函数\n",
    "def readInformation(type):\n",
    "    all_data = []\n",
    "    # types = ['men','women','kids','sports']\n",
    "    # types = ['men']\n",
    "    for type in types:\n",
    "        data_old = pd.read_csv('/home/authorcai/PycharmProjects/XianyuCraw/Csvs/原始数据/item_'+type+'.csv')\n",
    "        data = pd.DataFrame()\n",
    "        data['item_id'] = data_old['卖家Id']\n",
    "        data['description'] = data_old['商品描述']\n",
    "        all_data.append(data)\n",
    "    return all_data"
   ]
  },
  {
   "cell_type": "code",
   "execution_count": 5,
   "metadata": {},
   "outputs": [],
   "source": [
    "# 定义数据存储函数\n",
    "def storeData(filePath,features):\n",
    "    # 数据写入\n",
    "    l = []\n",
    "    with  open(filePath, 'a') as csvFile:\n",
    "        writer = csv.writer(csvFile)\n",
    "        # writer.writerow(field)\n",
    "        # 将数据写入\n",
    "        # 添加数据\n",
    "        l.append(features['item_id'])\n",
    "        l.append(features['season'])\n",
    "        l.append(features['size_1'])\n",
    "        l.append(features['size_2'])\n",
    "        l.append(features['stands'])\n",
    "        l.append(features['styles'])\n",
    "        l.append(features['type'])\n",
    "        l.append(features['material'])\n",
    "        # 数据写入csv文件\n",
    "        writer.writerow(l)"
   ]
  },
  {
   "cell_type": "code",
   "execution_count": 8,
   "metadata": {},
   "outputs": [],
   "source": [
    "# 定义主函数\n",
    "def main():\n",
    "    types = ['men','women','kids','sports']\n",
    "    for type in types:\n",
    "        contents = DefinationFeatures()\n",
    "        dataes = readInformation(type)\n",
    "        for data in dataes:\n",
    "            for index,row in data.iterrows():\n",
    "                features = Assignment(row)\n",
    "                storeData('/home/authorcai/PycharmProjects/XianyuCraw/Csvs/解析后的数据/result_'+type+'.csv',features)\n",
    "    "
   ]
  },
  {
   "cell_type": "code",
   "execution_count": 7,
   "metadata": {},
   "outputs": [],
   "source": [
    "def parse(description,contents):\n",
    "    # 将文本内容description的内容解析后存储在content中\n",
    "    results = {\n",
    "        'item_id':'',\n",
    "        'season':'',\n",
    "        'size_1':'',\n",
    "        'size_2':'',\n",
    "        'styles':'',\n",
    "        'type':'',\n",
    "        'material':''\n",
    "    }\n",
    "    Features['season'] = ['春','夏','秋','冬'] \n",
    "    Features['size_1'] = ['XXXL','3XL','XXL','2XL','XL','L','M','S']\n",
    "    Features['size_2'] = ['160','165','170','175','180'] \n",
    "    Features['stands'] = ['adidas','阿迪达斯','耐克','Nike','nike','贵人鸟','南极人','优衣库','zara','优衣库','uniqlo']\n",
    "#     Features['size_1'] = ['s','m','l','xl','xxl'] 尺码应当忽略大小写,注意xl，2xl，3xl，4xl的写法\n",
    "#     Features['size_2'] = ['160','165','170','175','180'] \n",
    "#     Features['stands'] = ['adidas','阿迪达斯','耐克','贵人鸟','南极人','优衣库','zara','优衣库','uniqlo'] 牌子应该包括中英文\n",
    "    Features['styles'] = ['学生','港风','英伦','潮牌','宽松','修身','polo']\n",
    "    Features['type'] = ['短袖','长袖','上衣','裤','裙','卫衣','衬衫']\n",
    "    Features['material'] = ['纯棉','涤纶']\n",
    "    for feature in Features:\n",
    "        for f in features:\n",
    "            length = len(f)\n",
    "            # 定位关键字的位置\n",
    "            pos = description.find(f)\n",
    "            # 判定该关键字是否存在\n",
    "            result = description[pos:pos+length]\n",
    "            if(result!=-1):\n",
    "                results[feature].append(f)\n",
    "            else:\n",
    "                results[feature].append(\"未知\")\n",
    "    print(results)\n",
    "    return results"
   ]
  },
  {
   "cell_type": "code",
   "execution_count": 15,
   "metadata": {},
   "outputs": [],
   "source": [
    "S = '''\n",
    "【纯棉现发】夏季短袖男t恤纯棉宽松上衣服男装潮流韩版学生青少年半袖打底衫\n",
    "这款印花短袖非常个性\n",
    "生动有趣\n",
    "适合这个青春的夏天\n",
    "休闲搭配 纯棉面料\n",
    "上身舒服极了\n",
    "\n",
    "不掉色 不起球 不缩水\n",
    "\n",
    "这种纯色印花 休闲装\n",
    "每个男生的衣柜都要多备几件才好\n",
    "\n",
    "颜色: 下方挑图\n",
    "尺码：图九\n",
    "\n",
    "标准版型\n",
    "S(75-90斤)\n",
    "M(105-125斤)\n",
    "L(125-140斤)\n",
    "XL（140-155）\n",
    "2XL（155-170)\n",
    "3XL（170-185）\n",
    "4XL（185－200）\n",
    "\n",
    "\n",
    "\n",
    "当天发货\n",
    "本产品仅支持邮寄\n",
    "'''\n",
    "word = 'CAI'\n",
    "where = S.find(word) \n",
    "# search for position print where # occurs at offset 4\n"
   ]
  },
  {
   "cell_type": "code",
   "execution_count": 17,
   "metadata": {},
   "outputs": [
    {
     "data": {
      "text/plain": [
       "-1"
      ]
     },
     "execution_count": 17,
     "metadata": {},
     "output_type": "execute_result"
    }
   ],
   "source": [
    "where"
   ]
  },
  {
   "cell_type": "code",
   "execution_count": null,
   "metadata": {},
   "outputs": [],
   "source": []
  }
 ],
 "metadata": {
  "kernelspec": {
   "display_name": "Usual",
   "language": "python",
   "name": "usual"
  },
  "language_info": {
   "codemirror_mode": {
    "name": "ipython",
    "version": 3
   },
   "file_extension": ".py",
   "mimetype": "text/x-python",
   "name": "python",
   "nbconvert_exporter": "python",
   "pygments_lexer": "ipython3",
   "version": "3.8.3"
  }
 },
 "nbformat": 4,
 "nbformat_minor": 4
}